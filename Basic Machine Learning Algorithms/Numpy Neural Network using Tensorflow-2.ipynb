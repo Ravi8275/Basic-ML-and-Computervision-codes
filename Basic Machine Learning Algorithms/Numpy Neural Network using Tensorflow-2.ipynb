{
 "cells": [
  {
   "cell_type": "markdown",
   "id": "a5c66da0",
   "metadata": {},
   "source": [
    "Importing necessary libraries"
   ]
  },
  {
   "cell_type": "code",
   "execution_count": 4,
   "id": "88bfce5b",
   "metadata": {},
   "outputs": [],
   "source": [
    "import numpy as np"
   ]
  },
  {
   "cell_type": "code",
   "execution_count": 5,
   "id": "ae0e0073",
   "metadata": {},
   "outputs": [],
   "source": [
    "import tensorflow as tf"
   ]
  },
  {
   "cell_type": "code",
   "execution_count": 114,
   "id": "3fcc9395",
   "metadata": {},
   "outputs": [],
   "source": [
    "import matplotlib.pyplot as plt"
   ]
  },
  {
   "cell_type": "markdown",
   "id": "fe41279e",
   "metadata": {},
   "source": [
    "Data Generation"
   ]
  },
  {
   "cell_type": "code",
   "execution_count": 99,
   "id": "b885b16a",
   "metadata": {},
   "outputs": [],
   "source": [
    "observations = 1000\n",
    "\n",
    "xs = np.random.uniform(low=-10, high=10, size=(observations,1))\n",
    "zs = np.random.uniform(-10, 10, (observations,1))\n",
    "\n",
    "generated_inputs = np.column_stack((xs,zs))\n",
    "\n",
    "noise = np.random.uniform(-1, 1, (observations,1))\n",
    "\n",
    "generated_targets = 2*xs - 3*zs + 5 + noise\n",
    "\n",
    "np.savez('T_intro', inputs=generated_inputs, targets=generated_targets)"
   ]
  },
  {
   "cell_type": "markdown",
   "id": "606c6a2c",
   "metadata": {},
   "source": [
    "Creating a Model"
   ]
  },
  {
   "cell_type": "markdown",
   "id": "d45ac90f",
   "metadata": {},
   "source": [
    "loading the data file"
   ]
  },
  {
   "cell_type": "code",
   "execution_count": 100,
   "id": "e26694d2",
   "metadata": {},
   "outputs": [],
   "source": [
    "tdata=np.load('T_intro.npz')"
   ]
  },
  {
   "cell_type": "code",
   "execution_count": 101,
   "id": "b508c3df",
   "metadata": {},
   "outputs": [],
   "source": [
    "input_size=2"
   ]
  },
  {
   "cell_type": "code",
   "execution_count": 102,
   "id": "89f78e01",
   "metadata": {},
   "outputs": [],
   "source": [
    "output_size=1"
   ]
  },
  {
   "cell_type": "markdown",
   "id": "ea415845",
   "metadata": {},
   "source": [
    "creating a model \n",
    "mentioning the number of layers i.e neuron at the output to be one(same size as output variable)"
   ]
  },
  {
   "cell_type": "code",
   "execution_count": 108,
   "id": "4b8b2ad9",
   "metadata": {},
   "outputs": [],
   "source": [
    "nnmodel=tf.keras.Sequential([\n",
    "    tf.keras.layers.Dense(output_size)\n",
    "])"
   ]
  },
  {
   "cell_type": "markdown",
   "id": "fffdd4a4",
   "metadata": {},
   "source": [
    "Selecting optimizer and loss function ,\n",
    "sgd-Stochastic gradient descent [Optimization function],\n",
    "loss function=Mean square error."
   ]
  },
  {
   "cell_type": "code",
   "execution_count": 109,
   "id": "9bef0726",
   "metadata": {},
   "outputs": [],
   "source": [
    "nnmodel.compile(optimizer='sgd',loss='mean_squared_error')"
   ]
  },
  {
   "cell_type": "code",
   "execution_count": 110,
   "id": "a361e6f3",
   "metadata": {},
   "outputs": [
    {
     "name": "stdout",
     "output_type": "stream",
     "text": [
      "Train on 1000 samples\n",
      "Epoch 1/150\n",
      "1000/1000 [==============================] - 0s 232us/sample - loss: 30.9710\n",
      "Epoch 2/150\n",
      "1000/1000 [==============================] - 0s 25us/sample - loss: 4.4301\n",
      "Epoch 3/150\n",
      "1000/1000 [==============================] - 0s 26us/sample - loss: 1.4710\n",
      "Epoch 4/150\n",
      "1000/1000 [==============================] - 0s 27us/sample - loss: 0.6655\n",
      "Epoch 5/150\n",
      "1000/1000 [==============================] - 0s 25us/sample - loss: 0.4285\n",
      "Epoch 6/150\n",
      "1000/1000 [==============================] - 0s 26us/sample - loss: 0.3688\n",
      "Epoch 7/150\n",
      "1000/1000 [==============================] - 0s 24us/sample - loss: 0.3496\n",
      "Epoch 8/150\n",
      "1000/1000 [==============================] - 0s 26us/sample - loss: 0.3467\n",
      "Epoch 9/150\n",
      "1000/1000 [==============================] - 0s 27us/sample - loss: 0.3440\n",
      "Epoch 10/150\n",
      "1000/1000 [==============================] - 0s 26us/sample - loss: 0.3379\n",
      "Epoch 11/150\n",
      "1000/1000 [==============================] - 0s 26us/sample - loss: 0.3384\n",
      "Epoch 12/150\n",
      "1000/1000 [==============================] - 0s 24us/sample - loss: 0.3429\n",
      "Epoch 13/150\n",
      "1000/1000 [==============================] - 0s 27us/sample - loss: 0.3378\n",
      "Epoch 14/150\n",
      "1000/1000 [==============================] - 0s 26us/sample - loss: 0.3430\n",
      "Epoch 15/150\n",
      "1000/1000 [==============================] - 0s 27us/sample - loss: 0.3573\n",
      "Epoch 16/150\n",
      "1000/1000 [==============================] - 0s 24us/sample - loss: 0.3427\n",
      "Epoch 17/150\n",
      "1000/1000 [==============================] - 0s 26us/sample - loss: 0.3422\n",
      "Epoch 18/150\n",
      "1000/1000 [==============================] - 0s 26us/sample - loss: 0.3462\n",
      "Epoch 19/150\n",
      "1000/1000 [==============================] - 0s 28us/sample - loss: 0.3419\n",
      "Epoch 20/150\n",
      "1000/1000 [==============================] - 0s 27us/sample - loss: 0.3443\n",
      "Epoch 21/150\n",
      "1000/1000 [==============================] - 0s 27us/sample - loss: 0.3419\n",
      "Epoch 22/150\n",
      "1000/1000 [==============================] - 0s 24us/sample - loss: 0.3417\n",
      "Epoch 23/150\n",
      "1000/1000 [==============================] - 0s 27us/sample - loss: 0.3387\n",
      "Epoch 24/150\n",
      "1000/1000 [==============================] - 0s 28us/sample - loss: 0.3557\n",
      "Epoch 25/150\n",
      "1000/1000 [==============================] - 0s 27us/sample - loss: 0.3434\n",
      "Epoch 26/150\n",
      "1000/1000 [==============================] - 0s 28us/sample - loss: 0.3468\n",
      "Epoch 27/150\n",
      "1000/1000 [==============================] - 0s 26us/sample - loss: 0.3393\n",
      "Epoch 28/150\n",
      "1000/1000 [==============================] - 0s 28us/sample - loss: 0.3433\n",
      "Epoch 29/150\n",
      "1000/1000 [==============================] - 0s 30us/sample - loss: 0.3430\n",
      "Epoch 30/150\n",
      "1000/1000 [==============================] - 0s 29us/sample - loss: 0.3447\n",
      "Epoch 31/150\n",
      "1000/1000 [==============================] - 0s 31us/sample - loss: 0.3447\n",
      "Epoch 32/150\n",
      "1000/1000 [==============================] - 0s 30us/sample - loss: 0.3494\n",
      "Epoch 33/150\n",
      "1000/1000 [==============================] - 0s 29us/sample - loss: 0.3407\n",
      "Epoch 34/150\n",
      "1000/1000 [==============================] - 0s 29us/sample - loss: 0.3373\n",
      "Epoch 35/150\n",
      "1000/1000 [==============================] - 0s 31us/sample - loss: 0.3498\n",
      "Epoch 36/150\n",
      "1000/1000 [==============================] - 0s 28us/sample - loss: 0.3472\n",
      "Epoch 37/150\n",
      "1000/1000 [==============================] - 0s 25us/sample - loss: 0.3454\n",
      "Epoch 38/150\n",
      "1000/1000 [==============================] - 0s 28us/sample - loss: 0.3427\n",
      "Epoch 39/150\n",
      "1000/1000 [==============================] - 0s 29us/sample - loss: 0.3362\n",
      "Epoch 40/150\n",
      "1000/1000 [==============================] - 0s 29us/sample - loss: 0.3404\n",
      "Epoch 41/150\n",
      "1000/1000 [==============================] - 0s 29us/sample - loss: 0.3413\n",
      "Epoch 42/150\n",
      "1000/1000 [==============================] - 0s 32us/sample - loss: 0.3445\n",
      "Epoch 43/150\n",
      "1000/1000 [==============================] - 0s 33us/sample - loss: 0.3391\n",
      "Epoch 44/150\n",
      "1000/1000 [==============================] - 0s 40us/sample - loss: 0.3392\n",
      "Epoch 45/150\n",
      "1000/1000 [==============================] - 0s 38us/sample - loss: 0.3430\n",
      "Epoch 46/150\n",
      "1000/1000 [==============================] - 0s 42us/sample - loss: 0.3433\n",
      "Epoch 47/150\n",
      "1000/1000 [==============================] - 0s 38us/sample - loss: 0.3491\n",
      "Epoch 48/150\n",
      "1000/1000 [==============================] - 0s 36us/sample - loss: 0.3363\n",
      "Epoch 49/150\n",
      "1000/1000 [==============================] - 0s 35us/sample - loss: 0.3424\n",
      "Epoch 50/150\n",
      "1000/1000 [==============================] - 0s 34us/sample - loss: 0.3462\n",
      "Epoch 51/150\n",
      "1000/1000 [==============================] - 0s 36us/sample - loss: 0.3454\n",
      "Epoch 52/150\n",
      "1000/1000 [==============================] - 0s 36us/sample - loss: 0.3422\n",
      "Epoch 53/150\n",
      "1000/1000 [==============================] - 0s 40us/sample - loss: 0.3458\n",
      "Epoch 54/150\n",
      "1000/1000 [==============================] - 0s 44us/sample - loss: 0.3437\n",
      "Epoch 55/150\n",
      "1000/1000 [==============================] - 0s 34us/sample - loss: 0.3454\n",
      "Epoch 56/150\n",
      "1000/1000 [==============================] - 0s 34us/sample - loss: 0.3454\n",
      "Epoch 57/150\n",
      "1000/1000 [==============================] - 0s 37us/sample - loss: 0.3427\n",
      "Epoch 58/150\n",
      "1000/1000 [==============================] - 0s 36us/sample - loss: 0.3488\n",
      "Epoch 59/150\n",
      "1000/1000 [==============================] - 0s 34us/sample - loss: 0.3458\n",
      "Epoch 60/150\n",
      "1000/1000 [==============================] - 0s 33us/sample - loss: 0.3478\n",
      "Epoch 61/150\n",
      "1000/1000 [==============================] - 0s 31us/sample - loss: 0.3494\n",
      "Epoch 62/150\n",
      "1000/1000 [==============================] - 0s 31us/sample - loss: 0.3434\n",
      "Epoch 63/150\n",
      "1000/1000 [==============================] - 0s 31us/sample - loss: 0.3406\n",
      "Epoch 64/150\n",
      "1000/1000 [==============================] - 0s 34us/sample - loss: 0.3437\n",
      "Epoch 65/150\n",
      "1000/1000 [==============================] - 0s 43us/sample - loss: 0.3404\n",
      "Epoch 66/150\n",
      "1000/1000 [==============================] - 0s 35us/sample - loss: 0.3483\n",
      "Epoch 67/150\n",
      "1000/1000 [==============================] - 0s 37us/sample - loss: 0.3424\n",
      "Epoch 68/150\n",
      "1000/1000 [==============================] - 0s 34us/sample - loss: 0.3372\n",
      "Epoch 69/150\n",
      "1000/1000 [==============================] - 0s 32us/sample - loss: 0.3376\n",
      "Epoch 70/150\n",
      "1000/1000 [==============================] - 0s 31us/sample - loss: 0.3471\n",
      "Epoch 71/150\n",
      "1000/1000 [==============================] - 0s 34us/sample - loss: 0.3466\n",
      "Epoch 72/150\n",
      "1000/1000 [==============================] - 0s 35us/sample - loss: 0.3409\n",
      "Epoch 73/150\n",
      "1000/1000 [==============================] - 0s 35us/sample - loss: 0.3383\n",
      "Epoch 74/150\n",
      "1000/1000 [==============================] - 0s 34us/sample - loss: 0.3457\n",
      "Epoch 75/150\n",
      "1000/1000 [==============================] - 0s 36us/sample - loss: 0.3391\n",
      "Epoch 76/150\n",
      "1000/1000 [==============================] - 0s 35us/sample - loss: 0.3453\n",
      "Epoch 77/150\n",
      "1000/1000 [==============================] - 0s 34us/sample - loss: 0.3391\n",
      "Epoch 78/150\n",
      "1000/1000 [==============================] - 0s 37us/sample - loss: 0.3389\n",
      "Epoch 79/150\n",
      "1000/1000 [==============================] - 0s 33us/sample - loss: 0.3461\n",
      "Epoch 80/150\n",
      "1000/1000 [==============================] - 0s 36us/sample - loss: 0.3414\n",
      "Epoch 81/150\n",
      "1000/1000 [==============================] - 0s 37us/sample - loss: 0.3346\n",
      "Epoch 82/150\n",
      "1000/1000 [==============================] - 0s 36us/sample - loss: 0.3447\n",
      "Epoch 83/150\n",
      "1000/1000 [==============================] - 0s 36us/sample - loss: 0.3375\n",
      "Epoch 84/150\n",
      "1000/1000 [==============================] - 0s 38us/sample - loss: 0.3427\n",
      "Epoch 85/150\n",
      "1000/1000 [==============================] - 0s 30us/sample - loss: 0.3389\n",
      "Epoch 86/150\n",
      "1000/1000 [==============================] - 0s 27us/sample - loss: 0.3387\n",
      "Epoch 87/150\n",
      "1000/1000 [==============================] - 0s 27us/sample - loss: 0.3436\n",
      "Epoch 88/150\n",
      "1000/1000 [==============================] - 0s 26us/sample - loss: 0.3535\n",
      "Epoch 89/150\n",
      "1000/1000 [==============================] - 0s 27us/sample - loss: 0.3479\n",
      "Epoch 90/150\n",
      "1000/1000 [==============================] - 0s 24us/sample - loss: 0.3401\n",
      "Epoch 91/150\n",
      "1000/1000 [==============================] - 0s 27us/sample - loss: 0.3409\n",
      "Epoch 92/150\n",
      "1000/1000 [==============================] - 0s 27us/sample - loss: 0.3451\n",
      "Epoch 93/150\n",
      "1000/1000 [==============================] - 0s 26us/sample - loss: 0.3457\n",
      "Epoch 94/150\n",
      "1000/1000 [==============================] - 0s 25us/sample - loss: 0.3394\n",
      "Epoch 95/150\n",
      "1000/1000 [==============================] - 0s 22us/sample - loss: 0.3372\n",
      "Epoch 96/150\n",
      "1000/1000 [==============================] - 0s 25us/sample - loss: 0.3407\n",
      "Epoch 97/150\n",
      "1000/1000 [==============================] - 0s 25us/sample - loss: 0.3428\n",
      "Epoch 98/150\n",
      "1000/1000 [==============================] - 0s 23us/sample - loss: 0.3390\n",
      "Epoch 99/150\n",
      "1000/1000 [==============================] - 0s 25us/sample - loss: 0.3498\n",
      "Epoch 100/150\n",
      "1000/1000 [==============================] - 0s 25us/sample - loss: 0.3412\n",
      "Epoch 101/150\n",
      "1000/1000 [==============================] - 0s 25us/sample - loss: 0.3460\n",
      "Epoch 102/150\n",
      "1000/1000 [==============================] - 0s 24us/sample - loss: 0.3441\n",
      "Epoch 103/150\n",
      "1000/1000 [==============================] - 0s 29us/sample - loss: 0.3509\n",
      "Epoch 104/150\n",
      "1000/1000 [==============================] - 0s 29us/sample - loss: 0.3462\n",
      "Epoch 105/150\n",
      "1000/1000 [==============================] - 0s 26us/sample - loss: 0.3414\n",
      "Epoch 106/150\n",
      "1000/1000 [==============================] - 0s 25us/sample - loss: 0.3390\n",
      "Epoch 107/150\n",
      "1000/1000 [==============================] - 0s 30us/sample - loss: 0.3489\n",
      "Epoch 108/150\n",
      "1000/1000 [==============================] - 0s 24us/sample - loss: 0.3374\n",
      "Epoch 109/150\n",
      "1000/1000 [==============================] - 0s 24us/sample - loss: 0.3367\n",
      "Epoch 110/150\n",
      "1000/1000 [==============================] - 0s 25us/sample - loss: 0.3378\n",
      "Epoch 111/150\n",
      "1000/1000 [==============================] - 0s 25us/sample - loss: 0.3403\n",
      "Epoch 112/150\n",
      "1000/1000 [==============================] - 0s 23us/sample - loss: 0.3448\n",
      "Epoch 113/150\n",
      "1000/1000 [==============================] - 0s 26us/sample - loss: 0.3403\n",
      "Epoch 114/150\n",
      "1000/1000 [==============================] - 0s 25us/sample - loss: 0.3461\n",
      "Epoch 115/150\n",
      "1000/1000 [==============================] - 0s 25us/sample - loss: 0.3386\n",
      "Epoch 116/150\n",
      "1000/1000 [==============================] - 0s 22us/sample - loss: 0.3448\n",
      "Epoch 117/150\n",
      "1000/1000 [==============================] - 0s 25us/sample - loss: 0.3382\n",
      "Epoch 118/150\n",
      "1000/1000 [==============================] - 0s 24us/sample - loss: 0.3401\n",
      "Epoch 119/150\n",
      "1000/1000 [==============================] - 0s 24us/sample - loss: 0.3425\n",
      "Epoch 120/150\n",
      "1000/1000 [==============================] - 0s 22us/sample - loss: 0.3384\n",
      "Epoch 121/150\n",
      "1000/1000 [==============================] - 0s 26us/sample - loss: 0.3455\n",
      "Epoch 122/150\n",
      "1000/1000 [==============================] - 0s 25us/sample - loss: 0.3360\n",
      "Epoch 123/150\n",
      "1000/1000 [==============================] - 0s 25us/sample - loss: 0.3338\n",
      "Epoch 124/150\n",
      "1000/1000 [==============================] - 0s 23us/sample - loss: 0.3407\n",
      "Epoch 125/150\n",
      "1000/1000 [==============================] - 0s 25us/sample - loss: 0.3391\n",
      "Epoch 126/150\n",
      "1000/1000 [==============================] - 0s 25us/sample - loss: 0.3465\n",
      "Epoch 127/150\n",
      "1000/1000 [==============================] - 0s 24us/sample - loss: 0.3402\n",
      "Epoch 128/150\n",
      "1000/1000 [==============================] - 0s 23us/sample - loss: 0.3409\n",
      "Epoch 129/150\n",
      "1000/1000 [==============================] - 0s 27us/sample - loss: 0.3491\n",
      "Epoch 130/150\n",
      "1000/1000 [==============================] - 0s 25us/sample - loss: 0.3417\n",
      "Epoch 131/150\n",
      "1000/1000 [==============================] - 0s 24us/sample - loss: 0.3417\n",
      "Epoch 132/150\n",
      "1000/1000 [==============================] - 0s 23us/sample - loss: 0.3418\n",
      "Epoch 133/150\n",
      "1000/1000 [==============================] - 0s 25us/sample - loss: 0.3382\n",
      "Epoch 134/150\n",
      "1000/1000 [==============================] - 0s 26us/sample - loss: 0.3379\n",
      "Epoch 135/150\n",
      "1000/1000 [==============================] - 0s 25us/sample - loss: 0.3378\n",
      "Epoch 136/150\n",
      "1000/1000 [==============================] - 0s 22us/sample - loss: 0.3488\n",
      "Epoch 137/150\n",
      "1000/1000 [==============================] - 0s 26us/sample - loss: 0.3463\n",
      "Epoch 138/150\n",
      "1000/1000 [==============================] - 0s 25us/sample - loss: 0.3502\n",
      "Epoch 139/150\n",
      "1000/1000 [==============================] - 0s 26us/sample - loss: 0.3395\n",
      "Epoch 140/150\n",
      "1000/1000 [==============================] - 0s 23us/sample - loss: 0.3427\n",
      "Epoch 141/150\n",
      "1000/1000 [==============================] - 0s 25us/sample - loss: 0.3477\n",
      "Epoch 142/150\n",
      "1000/1000 [==============================] - 0s 25us/sample - loss: 0.3379\n",
      "Epoch 143/150\n",
      "1000/1000 [==============================] - 0s 24us/sample - loss: 0.3434\n",
      "Epoch 144/150\n",
      "1000/1000 [==============================] - 0s 23us/sample - loss: 0.3474\n",
      "Epoch 145/150\n",
      "1000/1000 [==============================] - 0s 26us/sample - loss: 0.3431\n",
      "Epoch 146/150\n",
      "1000/1000 [==============================] - 0s 25us/sample - loss: 0.3345\n",
      "Epoch 147/150\n",
      "1000/1000 [==============================] - 0s 25us/sample - loss: 0.3434\n",
      "Epoch 148/150\n",
      "1000/1000 [==============================] - 0s 23us/sample - loss: 0.3419\n",
      "Epoch 149/150\n",
      "1000/1000 [==============================] - 0s 26us/sample - loss: 0.3421\n",
      "Epoch 150/150\n",
      "1000/1000 [==============================] - 0s 25us/sample - loss: 0.3491\n"
     ]
    },
    {
     "data": {
      "text/plain": [
       "<tensorflow.python.keras.callbacks.History at 0x7fcdd337ada0>"
      ]
     },
     "execution_count": 110,
     "metadata": {},
     "output_type": "execute_result"
    }
   ],
   "source": [
    "nnmodel.fit(tdata['inputs'],tdata['targets'],epochs=150,verbose=1)"
   ]
  },
  {
   "cell_type": "code",
   "execution_count": 112,
   "id": "56820a52",
   "metadata": {},
   "outputs": [
    {
     "data": {
      "text/plain": [
       "[array([[ 1.9741173],\n",
       "        [-3.0048504]], dtype=float32),\n",
       " array([4.99937], dtype=float32)]"
      ]
     },
     "execution_count": 112,
     "metadata": {},
     "output_type": "execute_result"
    }
   ],
   "source": [
    "nnmodel.layers[0].get_weights()"
   ]
  },
  {
   "cell_type": "code",
   "execution_count": 117,
   "id": "220b5ea3",
   "metadata": {},
   "outputs": [
    {
     "data": {
      "image/png": "[encoded data removed]",
      "text/plain": [
       "<Figure size 432x288 with 1 Axes>"
      ]
     },
     "metadata": {
      "needs_background": "light"
     },
     "output_type": "display_data"
    }
   ],
   "source": [
    "plt.plot(np.squeeze(nnmodel.predict_on_batch(tdata['inputs'])),np.squeeze(tdata['targets']))\n",
    "plt.xlabel('outputs')\n",
    "plt.ylabel('target')\n",
    "plt.show()"
   ]
  },
  {
   "cell_type": "code",
   "execution_count": null,
   "id": "82c98cbd",
   "metadata": {},
   "outputs": [],
   "source": []
  }
 ],
 "metadata": {
  "kernelspec": {
   "display_name": "Python [conda env:testev]",
   "language": "python",
   "name": "conda-env-testev-py"
  },
  "language_info": {
   "codemirror_mode": {
    "name": "ipython",
    "version": 3
   },
   "file_extension": ".py",
   "mimetype": "text/x-python",
   "name": "python",
   "nbconvert_exporter": "python",
   "pygments_lexer": "ipython3",
   "version": "3.6.13"
  }
 },
 "nbformat": 4,
 "nbformat_minor": 5
}

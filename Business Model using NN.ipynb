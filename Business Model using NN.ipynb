{
 "cells": [
  {
   "cell_type": "markdown",
   "id": "1dc55947",
   "metadata": {},
   "source": [
    "Extracting the Data"
   ]
  },
  {
   "cell_type": "code",
   "execution_count": 1,
   "id": "1846b237",
   "metadata": {},
   "outputs": [
    {
     "name": "stdout",
     "output_type": "stream",
     "text": [
      "Intel MKL WARNING: Support of Intel(R) Streaming SIMD Extensions 4.2 (Intel(R) SSE4.2) enabled only processors has been deprecated. Intel oneAPI Math Kernel Library 2025.0 will require Intel(R) Advanced Vector Extensions (Intel(R) AVX) instructions.\n",
      "Intel MKL WARNING: Support of Intel(R) Streaming SIMD Extensions 4.2 (Intel(R) SSE4.2) enabled only processors has been deprecated. Intel oneAPI Math Kernel Library 2025.0 will require Intel(R) Advanced Vector Extensions (Intel(R) AVX) instructions.\n"
     ]
    }
   ],
   "source": [
    "import numpy as np"
   ]
  },
  {
   "cell_type": "code",
   "execution_count": 4,
   "id": "fd8fe604",
   "metadata": {},
   "outputs": [],
   "source": [
    "from sklearn import preprocessing"
   ]
  },
  {
   "cell_type": "code",
   "execution_count": 5,
   "id": "85b136d1",
   "metadata": {},
   "outputs": [],
   "source": [
    "raw_data=np.loadtxt('Audiobooks_data.csv',delimiter=',')"
   ]
  },
  {
   "cell_type": "code",
   "execution_count": 6,
   "id": "0736fb4b",
   "metadata": {},
   "outputs": [],
   "source": [
    "unscaled_raw_data=raw_data[:,1:-1]"
   ]
  },
  {
   "cell_type": "code",
   "execution_count": 7,
   "id": "6868895e",
   "metadata": {},
   "outputs": [],
   "source": [
    "target_col=raw_data[:,-1]"
   ]
  },
  {
   "cell_type": "markdown",
   "id": "e70e60b6",
   "metadata": {},
   "source": [
    "Balancing the Data set"
   ]
  },
  {
   "cell_type": "code",
   "execution_count": 31,
   "id": "86d6f093",
   "metadata": {},
   "outputs": [],
   "source": [
    "num_one_target=int(np.sum(target_col))"
   ]
  },
  {
   "cell_type": "code",
   "execution_count": 32,
   "id": "0f1fcae6",
   "metadata": {},
   "outputs": [],
   "source": [
    "zero_target_counter=0"
   ]
  },
  {
   "cell_type": "code",
   "execution_count": 33,
   "id": "d3bd83cc",
   "metadata": {},
   "outputs": [],
   "source": [
    "indices_to_be_removed=[]"
   ]
  },
  {
   "cell_type": "code",
   "execution_count": 34,
   "id": "aa5c1462",
   "metadata": {},
   "outputs": [],
   "source": [
    "for i in range(target_col.shape[0]):\n",
    "    if target_col[i]==0:\n",
    "        zero_target_counter+=1\n",
    "        if zero_target_counter>num_one_target:\n",
    "            indices_to_be_removed.append(i)\n",
    "        "
   ]
  },
  {
   "cell_type": "code",
   "execution_count": 35,
   "id": "0bfaf22c",
   "metadata": {},
   "outputs": [],
   "source": [
    "unscaled_inputs_equal_priors=np.delete(unscaled_raw_data,indices_to_be_removed,axis=0)"
   ]
  },
  {
   "cell_type": "code",
   "execution_count": 36,
   "id": "994e9639",
   "metadata": {},
   "outputs": [],
   "source": [
    "target_equal_priors=np.delete(target_col,indices_to_be_removed,axis=0)"
   ]
  },
  {
   "cell_type": "markdown",
   "id": "2774dd76",
   "metadata": {},
   "source": [
    "Standardizen the inputs"
   ]
  },
  {
   "cell_type": "code",
   "execution_count": 37,
   "id": "c4bbff4d",
   "metadata": {},
   "outputs": [],
   "source": [
    "scaled_inputs= preprocessing.scale(unscaled_inputs_equal_priors)"
   ]
  },
  {
   "cell_type": "code",
   "execution_count": 38,
   "id": "b41e27b4",
   "metadata": {},
   "outputs": [],
   "source": [
    "shuffled_indices=np.arange(scaled_inputs.shape[0])"
   ]
  },
  {
   "cell_type": "code",
   "execution_count": 39,
   "id": "3d42c880",
   "metadata": {},
   "outputs": [],
   "source": [
    "np.random.shuffle(shuffled_indices)"
   ]
  },
  {
   "cell_type": "code",
   "execution_count": 40,
   "id": "f3cd8691",
   "metadata": {},
   "outputs": [],
   "source": [
    "shuffle_inputs=scaled_inputs[shuffled_indices]"
   ]
  },
  {
   "cell_type": "code",
   "execution_count": 41,
   "id": "95e7cec3",
   "metadata": {},
   "outputs": [],
   "source": [
    "shuffled_targets=target_col[shuffled_indices]"
   ]
  },
  {
   "cell_type": "code",
   "execution_count": 59,
   "id": "71b4b2b0",
   "metadata": {},
   "outputs": [
    {
     "data": {
      "text/plain": [
       "4474"
      ]
     },
     "execution_count": 59,
     "metadata": {},
     "output_type": "execute_result"
    }
   ],
   "source": [
    "len(shuffled_targets)"
   ]
  },
  {
   "cell_type": "markdown",
   "id": "4739aa85",
   "metadata": {},
   "source": [
    "Splitting the data into train,validation and test data"
   ]
  },
  {
   "cell_type": "code",
   "execution_count": 42,
   "id": "957cc02e",
   "metadata": {},
   "outputs": [],
   "source": [
    "samples_count=shuffle_inputs.shape[0]"
   ]
  },
  {
   "cell_type": "code",
   "execution_count": 43,
   "id": "b34b19ab",
   "metadata": {},
   "outputs": [
    {
     "data": {
      "text/plain": [
       "4474"
      ]
     },
     "execution_count": 43,
     "metadata": {},
     "output_type": "execute_result"
    }
   ],
   "source": [
    "samples_count"
   ]
  },
  {
   "cell_type": "code",
   "execution_count": 44,
   "id": "ecf01361",
   "metadata": {},
   "outputs": [],
   "source": [
    "training_samples_count=int(0.8*samples_count)"
   ]
  },
  {
   "cell_type": "code",
   "execution_count": 51,
   "id": "14e66a00",
   "metadata": {},
   "outputs": [
    {
     "data": {
      "text/plain": [
       "3579"
      ]
     },
     "execution_count": 51,
     "metadata": {},
     "output_type": "execute_result"
    }
   ],
   "source": [
    "training_samples_count"
   ]
  },
  {
   "cell_type": "code",
   "execution_count": 45,
   "id": "5d10db5a",
   "metadata": {},
   "outputs": [],
   "source": [
    "validation_samples_count=int(0.1*samples_count)"
   ]
  },
  {
   "cell_type": "code",
   "execution_count": 52,
   "id": "ebc9c599",
   "metadata": {},
   "outputs": [
    {
     "data": {
      "text/plain": [
       "447"
      ]
     },
     "execution_count": 52,
     "metadata": {},
     "output_type": "execute_result"
    }
   ],
   "source": [
    "validation_samples_count"
   ]
  },
  {
   "cell_type": "code",
   "execution_count": 46,
   "id": "dd5e0095",
   "metadata": {},
   "outputs": [],
   "source": [
    "testing_samples_count=samples_count-training_samples_count-validation_samples_count"
   ]
  },
  {
   "cell_type": "code",
   "execution_count": 53,
   "id": "577901f7",
   "metadata": {},
   "outputs": [
    {
     "data": {
      "text/plain": [
       "448"
      ]
     },
     "execution_count": 53,
     "metadata": {},
     "output_type": "execute_result"
    }
   ],
   "source": [
    "testing_samples_count"
   ]
  },
  {
   "cell_type": "code",
   "execution_count": 47,
   "id": "3f86c15a",
   "metadata": {},
   "outputs": [],
   "source": [
    "train_inputs=shuffle_inputs[:training_samples_count]"
   ]
  },
  {
   "cell_type": "code",
   "execution_count": 48,
   "id": "8991a540",
   "metadata": {},
   "outputs": [],
   "source": [
    "train_targets=shuffled_targets[:training_samples_count]"
   ]
  },
  {
   "cell_type": "code",
   "execution_count": 55,
   "id": "cfe2bf0a",
   "metadata": {},
   "outputs": [],
   "source": [
    "validation_inputs=shuffle_inputs[training_samples_count:training_samples_count+validation_samples_count]"
   ]
  },
  {
   "cell_type": "code",
   "execution_count": 60,
   "id": "6a726d24",
   "metadata": {},
   "outputs": [],
   "source": [
    "validation_targets=shuffled_targets[training_samples_count:training_samples_count+validation_samples_count]"
   ]
  },
  {
   "cell_type": "code",
   "execution_count": 111,
   "id": "faf1cf4a",
   "metadata": {},
   "outputs": [],
   "source": [
    "test_inputs=shuffle_inputs[training_samples_count+validation_samples_count:]"
   ]
  },
  {
   "cell_type": "code",
   "execution_count": 112,
   "id": "de788401",
   "metadata": {},
   "outputs": [],
   "source": [
    "test_targets=shuffled_targets[training_samples_count+validation_samples_count:]"
   ]
  },
  {
   "cell_type": "markdown",
   "id": "b103efb7",
   "metadata": {},
   "source": [
    "Saving the data"
   ]
  },
  {
   "cell_type": "code",
   "execution_count": 113,
   "id": "dd3d83ae",
   "metadata": {},
   "outputs": [],
   "source": [
    "np.savez('Audiobooks_training_data',inputs=train_inputs,targets=train_targets)"
   ]
  },
  {
   "cell_type": "code",
   "execution_count": 114,
   "id": "835bc01c",
   "metadata": {},
   "outputs": [],
   "source": [
    "np.savez('Audio_books_validation_data',inputs=validation_inputs,targets=validation_targets)"
   ]
  },
  {
   "cell_type": "code",
   "execution_count": 115,
   "id": "7e3572de",
   "metadata": {},
   "outputs": [],
   "source": [
    "np.savez('Audio_books_test_data',inputs=test_inputs,targets=test_targets)"
   ]
  },
  {
   "cell_type": "code",
   "execution_count": 116,
   "id": "e5938ba0",
   "metadata": {},
   "outputs": [],
   "source": [
    "import tensorflow as tf"
   ]
  },
  {
   "cell_type": "code",
   "execution_count": 117,
   "id": "173aa342",
   "metadata": {},
   "outputs": [],
   "source": [
    "npz=np.load('Audibooks_training_data.npz')"
   ]
  },
  {
   "cell_type": "code",
   "execution_count": 118,
   "id": "6ee40143",
   "metadata": {},
   "outputs": [
    {
     "name": "stderr",
     "output_type": "stream",
     "text": [
      "/var/folders/pq/ncc84cyn6cl7mhcszk5vx8900000gn/T/ipykernel_5248/2350257057.py:1: DeprecationWarning: `np.float` is a deprecated alias for the builtin `float`. To silence this warning, use `float` by itself. Doing this will not modify any behavior and is safe. If you specifically wanted the numpy scalar type, use `np.float64` here.\n",
      "Deprecated in NumPy 1.20; for more details and guidance: https://numpy.org/devdocs/release/1.20.0-notes.html#deprecations\n",
      "  trained_inputs=npz['inputs'].astype(np.float)\n"
     ]
    }
   ],
   "source": [
    "trained_inputs=npz['inputs'].astype(np.float)"
   ]
  },
  {
   "cell_type": "code",
   "execution_count": 119,
   "id": "887c3af9",
   "metadata": {},
   "outputs": [
    {
     "name": "stderr",
     "output_type": "stream",
     "text": [
      "/var/folders/pq/ncc84cyn6cl7mhcszk5vx8900000gn/T/ipykernel_5248/699824439.py:1: DeprecationWarning: `np.int` is a deprecated alias for the builtin `int`. To silence this warning, use `int` by itself. Doing this will not modify any behavior and is safe. When replacing `np.int`, you may wish to use e.g. `np.int64` or `np.int32` to specify the precision. If you wish to review your current use, check the release note link for additional information.\n",
      "Deprecated in NumPy 1.20; for more details and guidance: https://numpy.org/devdocs/release/1.20.0-notes.html#deprecations\n",
      "  trained_targets=npz['targets'].astype(np.int)\n"
     ]
    }
   ],
   "source": [
    "trained_targets=npz['targets'].astype(np.int)"
   ]
  },
  {
   "cell_type": "code",
   "execution_count": 120,
   "id": "41a102cd",
   "metadata": {},
   "outputs": [],
   "source": [
    "ipz=np.load('Audio_books_validation_data.npz')"
   ]
  },
  {
   "cell_type": "code",
   "execution_count": 121,
   "id": "cccebeb0",
   "metadata": {},
   "outputs": [
    {
     "name": "stderr",
     "output_type": "stream",
     "text": [
      "/var/folders/pq/ncc84cyn6cl7mhcszk5vx8900000gn/T/ipykernel_5248/1340672381.py:1: DeprecationWarning: `np.float` is a deprecated alias for the builtin `float`. To silence this warning, use `float` by itself. Doing this will not modify any behavior and is safe. If you specifically wanted the numpy scalar type, use `np.float64` here.\n",
      "Deprecated in NumPy 1.20; for more details and guidance: https://numpy.org/devdocs/release/1.20.0-notes.html#deprecations\n",
      "  validated_inputs,validated_targets=ipz['inputs'].astype(np.float),ipz['targets'].astype(np.int)\n",
      "/var/folders/pq/ncc84cyn6cl7mhcszk5vx8900000gn/T/ipykernel_5248/1340672381.py:1: DeprecationWarning: `np.int` is a deprecated alias for the builtin `int`. To silence this warning, use `int` by itself. Doing this will not modify any behavior and is safe. When replacing `np.int`, you may wish to use e.g. `np.int64` or `np.int32` to specify the precision. If you wish to review your current use, check the release note link for additional information.\n",
      "Deprecated in NumPy 1.20; for more details and guidance: https://numpy.org/devdocs/release/1.20.0-notes.html#deprecations\n",
      "  validated_inputs,validated_targets=ipz['inputs'].astype(np.float),ipz['targets'].astype(np.int)\n"
     ]
    }
   ],
   "source": [
    "validated_inputs,validated_targets=ipz['inputs'].astype(np.float),ipz['targets'].astype(np.int)"
   ]
  },
  {
   "cell_type": "code",
   "execution_count": 122,
   "id": "d2e71a9d",
   "metadata": {},
   "outputs": [],
   "source": [
    "ipi=np.load('Audio_books_test_data.npz')"
   ]
  },
  {
   "cell_type": "code",
   "execution_count": 123,
   "id": "5f5030fc",
   "metadata": {},
   "outputs": [
    {
     "name": "stderr",
     "output_type": "stream",
     "text": [
      "/var/folders/pq/ncc84cyn6cl7mhcszk5vx8900000gn/T/ipykernel_5248/761668590.py:1: DeprecationWarning: `np.float` is a deprecated alias for the builtin `float`. To silence this warning, use `float` by itself. Doing this will not modify any behavior and is safe. If you specifically wanted the numpy scalar type, use `np.float64` here.\n",
      "Deprecated in NumPy 1.20; for more details and guidance: https://numpy.org/devdocs/release/1.20.0-notes.html#deprecations\n",
      "  tested_inputs=ipi['inputs'].astype(np.float)\n",
      "/var/folders/pq/ncc84cyn6cl7mhcszk5vx8900000gn/T/ipykernel_5248/761668590.py:2: DeprecationWarning: `np.int` is a deprecated alias for the builtin `int`. To silence this warning, use `int` by itself. Doing this will not modify any behavior and is safe. When replacing `np.int`, you may wish to use e.g. `np.int64` or `np.int32` to specify the precision. If you wish to review your current use, check the release note link for additional information.\n",
      "Deprecated in NumPy 1.20; for more details and guidance: https://numpy.org/devdocs/release/1.20.0-notes.html#deprecations\n",
      "  tested_targets=ipi['targets'].astype(np.int)\n"
     ]
    }
   ],
   "source": [
    "tested_inputs=ipi['inputs'].astype(np.float)\n",
    "tested_targets=ipi['targets'].astype(np.int)"
   ]
  },
  {
   "cell_type": "code",
   "execution_count": 124,
   "id": "266647ba",
   "metadata": {},
   "outputs": [
    {
     "data": {
      "text/plain": [
       "array([0, 0, 1, 0, 0, 1, 0, 0, 0, 0, 0, 1, 0, 1, 0, 0, 1, 0, 0, 0, 0, 0,\n",
       "       0, 0, 0, 1, 0, 0, 0, 0, 1, 0, 0, 0, 0, 0, 1, 0, 0, 0, 0, 0, 0, 0,\n",
       "       0, 1, 0, 0, 0, 0, 0, 0, 0, 0, 0, 0, 0, 0, 0, 0, 0, 0, 0, 0, 0, 0,\n",
       "       1, 0, 0, 0, 1, 0, 0, 0, 0, 1, 0, 0, 0, 1, 0, 0, 0, 0, 0, 0, 0, 0,\n",
       "       0, 0, 0, 0, 0, 0, 0, 1, 0, 0, 1, 0, 0, 0, 0, 1, 0, 0, 0, 0, 1, 0,\n",
       "       0, 1, 0, 1, 0, 0, 0, 0, 0, 0, 0, 1, 0, 0, 0, 0, 0, 0, 1, 0, 0, 0,\n",
       "       0, 0, 0, 0, 0, 0, 0, 0, 0, 0, 0, 0, 0, 1, 0, 1, 0, 0, 0, 0, 1, 0,\n",
       "       1, 0, 0, 1, 1, 0, 0, 0, 0, 1, 0, 0, 0, 1, 0, 0, 1, 1, 0, 0, 0, 0,\n",
       "       0, 0, 1, 0, 0, 1, 0, 0, 0, 0, 1, 0, 0, 0, 0, 0, 0, 0, 0, 1, 0, 0,\n",
       "       0, 1, 1, 0, 0, 0, 0, 1, 0, 1, 0, 0, 0, 0, 0, 0, 0, 0, 0, 0, 0, 0,\n",
       "       1, 0, 0, 0, 0, 1, 0, 1, 0, 0, 0, 0, 0, 0, 1, 0, 0, 0, 0, 0, 0, 0,\n",
       "       1, 0, 0, 1, 1, 0, 1, 0, 1, 0, 0, 0, 0, 0, 0, 0, 0, 1, 0, 0, 0, 0,\n",
       "       1, 1, 0, 0, 0, 0, 0, 0, 0, 0, 0, 0, 0, 0, 1, 0, 0, 0, 0, 0, 0, 0,\n",
       "       0, 1, 0, 0, 1, 0, 0, 0, 0, 0, 1, 0, 0, 0, 0, 0, 0, 0, 0, 0, 0, 0,\n",
       "       1, 1, 0, 1, 0, 0, 0, 0, 0, 0, 0, 0, 0, 0, 0, 1, 0, 0, 0, 0, 0, 0,\n",
       "       0, 0, 0, 0, 0, 0, 0, 0, 0, 0, 0, 0, 0, 1, 0, 1, 0, 1, 0, 0, 0, 1,\n",
       "       0, 0, 1, 0, 0, 1, 1, 0, 0, 0, 1, 0, 0, 0, 1, 0, 0, 0, 0, 0, 0, 0,\n",
       "       0, 0, 1, 0, 0, 1, 0, 1, 0, 0, 0, 0, 0, 0, 0, 0, 0, 0, 1, 0, 1, 0,\n",
       "       0, 0, 1, 0, 0, 0, 0, 0, 0, 0, 0, 1, 0, 0, 0, 1, 1, 0, 0, 0, 0, 1,\n",
       "       0, 0, 0, 0, 0, 0, 0, 0, 0, 0, 0, 0, 0, 0, 0, 1, 0, 0, 0, 0, 0, 0,\n",
       "       0, 0, 0, 0, 0, 1, 0, 0])"
      ]
     },
     "execution_count": 124,
     "metadata": {},
     "output_type": "execute_result"
    }
   ],
   "source": [
    "tested_targets"
   ]
  },
  {
   "cell_type": "code",
   "execution_count": 125,
   "id": "afa17b08",
   "metadata": {},
   "outputs": [],
   "source": [
    "inputsize=10\n",
    "outputsize=2\n",
    "hiddenlayersize=50\n",
    "model=tf.keras.Sequential([\n",
    "  \n",
    "    tf.keras.layers.Dense(hiddenlayersize,activation='relu'),\n",
    "    tf.keras.layers.Dense(hiddenlayersize,activation='relu'),\n",
    "    tf.keras.layers.Dense(outputsize,activation='softmax')\n",
    "    \n",
    "\n",
    "])"
   ]
  },
  {
   "cell_type": "code",
   "execution_count": 126,
   "id": "686b6dd5",
   "metadata": {},
   "outputs": [],
   "source": [
    "model.compile(optimizer='adam',loss='sparse_categorical_crossentropy',metrics='accuracy')"
   ]
  },
  {
   "cell_type": "code",
   "execution_count": 127,
   "id": "07f0d517",
   "metadata": {},
   "outputs": [],
   "source": [
    "Batch__size=100"
   ]
  },
  {
   "cell_type": "code",
   "execution_count": 128,
   "id": "7c036370",
   "metadata": {},
   "outputs": [],
   "source": [
    "early_stopping=tf.keras.callbacks.EarlyStopping(patience=2)"
   ]
  },
  {
   "cell_type": "code",
   "execution_count": 129,
   "id": "0c1ee76d",
   "metadata": {},
   "outputs": [],
   "source": [
    "num_of_epochs=150"
   ]
  },
  {
   "cell_type": "code",
   "execution_count": 130,
   "id": "d12a41a2",
   "metadata": {},
   "outputs": [
    {
     "name": "stdout",
     "output_type": "stream",
     "text": [
      "Epoch 1/150\n",
      "36/36 - 0s - loss: 0.5496 - accuracy: 0.7552 - val_loss: 0.5137 - val_accuracy: 0.7718 - 450ms/epoch - 12ms/step\n",
      "Epoch 2/150\n",
      "36/36 - 0s - loss: 0.4548 - accuracy: 0.8050 - val_loss: 0.4904 - val_accuracy: 0.7763 - 44ms/epoch - 1ms/step\n",
      "Epoch 3/150\n",
      "36/36 - 0s - loss: 0.4374 - accuracy: 0.8061 - val_loss: 0.4862 - val_accuracy: 0.7763 - 43ms/epoch - 1ms/step\n",
      "Epoch 4/150\n",
      "36/36 - 0s - loss: 0.4277 - accuracy: 0.8066 - val_loss: 0.4794 - val_accuracy: 0.7718 - 42ms/epoch - 1ms/step\n",
      "Epoch 5/150\n",
      "36/36 - 0s - loss: 0.4213 - accuracy: 0.8058 - val_loss: 0.4812 - val_accuracy: 0.7740 - 42ms/epoch - 1ms/step\n",
      "Epoch 6/150\n",
      "36/36 - 0s - loss: 0.4167 - accuracy: 0.8086 - val_loss: 0.4785 - val_accuracy: 0.7651 - 41ms/epoch - 1ms/step\n",
      "Epoch 7/150\n",
      "36/36 - 0s - loss: 0.4115 - accuracy: 0.8114 - val_loss: 0.4742 - val_accuracy: 0.7696 - 42ms/epoch - 1ms/step\n",
      "Epoch 8/150\n",
      "36/36 - 0s - loss: 0.4087 - accuracy: 0.8111 - val_loss: 0.4699 - val_accuracy: 0.7673 - 42ms/epoch - 1ms/step\n",
      "Epoch 9/150\n",
      "36/36 - 0s - loss: 0.4084 - accuracy: 0.8114 - val_loss: 0.4709 - val_accuracy: 0.7673 - 42ms/epoch - 1ms/step\n",
      "Epoch 10/150\n",
      "36/36 - 0s - loss: 0.4044 - accuracy: 0.8136 - val_loss: 0.4710 - val_accuracy: 0.7673 - 42ms/epoch - 1ms/step\n"
     ]
    },
    {
     "data": {
      "text/plain": [
       "<keras.callbacks.History at 0x143f312d0>"
      ]
     },
     "execution_count": 130,
     "metadata": {},
     "output_type": "execute_result"
    }
   ],
   "source": [
    "model.fit(trained_inputs,trained_targets,batch_size=Batch__size,epochs=num_of_epochs,validation_data=(validated_inputs,validated_targets),verbose=2,callbacks=[early_stopping])"
   ]
  },
  {
   "cell_type": "code",
   "execution_count": 131,
   "id": "b6c54e15",
   "metadata": {},
   "outputs": [
    {
     "name": "stdout",
     "output_type": "stream",
     "text": [
      "14/14 [==============================] - 0s 843us/step - loss: 0.3904 - accuracy: 0.8348\n"
     ]
    }
   ],
   "source": [
    "test_loss,test_accuracy=model.evaluate(tested_inputs,tested_targets)"
   ]
  },
  {
   "cell_type": "code",
   "execution_count": null,
   "id": "859dc83b",
   "metadata": {},
   "outputs": [],
   "source": []
  }
 ],
 "metadata": {
  "kernelspec": {
   "display_name": "Python [conda env:py34-TF2.0]",
   "language": "python",
   "name": "conda-env-py34-TF2.0-py"
  },
  "language_info": {
   "codemirror_mode": {
    "name": "ipython",
    "version": 3
   },
   "file_extension": ".py",
   "mimetype": "text/x-python",
   "name": "python",
   "nbconvert_exporter": "python",
   "pygments_lexer": "ipython3",
   "version": "3.11.3"
  }
 },
 "nbformat": 4,
 "nbformat_minor": 5
}

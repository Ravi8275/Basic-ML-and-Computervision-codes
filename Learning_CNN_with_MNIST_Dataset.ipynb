{
  "cells": [
    {
      "cell_type": "markdown",
      "metadata": {
        "id": "view-in-github",
        "colab_type": "text"
      },
      "source": [
        "<a href=\"https://colab.research.google.com/github/Ravi8275/DS-Repository-of-Raviteja.I/blob/main/Learning_CNN_with_MNIST_Dataset.ipynb\" target=\"_parent\"><img src=\"https://colab.research.google.com/assets/colab-badge.svg\" alt=\"Open In Colab\"/></a>"
      ]
    },
    {
      "cell_type": "markdown",
      "source": [
        "# Schematic of CNN"
      ],
      "metadata": {
        "id": "66Vmq-a4FPQL"
      }
    },
    {
      "cell_type": "markdown",
      "source": [
        "<img src=\"https://vitalflux.com/wp-content/uploads/2022/04/Typical-CNN-architecture.png\" width=\"700\" height=\"300\">\n",
        "\n",
        "\n"
      ],
      "metadata": {
        "id": "tYDXnU062KX3"
      }
    },
    {
      "cell_type": "markdown",
      "source": [
        "# Importing all the necessary libraries"
      ],
      "metadata": {
        "id": "2pM6hSJNFJKW"
      }
    },
    {
      "cell_type": "code",
      "source": [
        "import tensorflow as tf\n",
        "from tensorflow import keras\n",
        "from sklearn.model_selection import train_test_split\n",
        "from tensorflow.keras.models import Sequential\n",
        "from tensorflow.keras.layers import Dense, Conv2D, Flatten, Activation, MaxPooling2D, Dropout\n",
        "from tensorflow.keras.datasets import mnist\n",
        "from tensorflow.keras.optimizers import Adam\n",
        "import matplotlib.pyplot as plt\n",
        "import numpy as np"
      ],
      "metadata": {
        "id": "Dy6i-sfp6fRO"
      },
      "execution_count": 24,
      "outputs": []
    },
    {
      "cell_type": "markdown",
      "metadata": {
        "id": "br-S-dyQZrEd"
      },
      "source": [
        "# Loading the Dataset"
      ]
    },
    {
      "cell_type": "code",
      "execution_count": 25,
      "metadata": {
        "id": "VBXFSKYdZkgF"
      },
      "outputs": [],
      "source": [
        "#Being the existing dataset within the Keras dataset library with the help of load data function the dataset will be split into train and test samples\n",
        "(x_train,y_train),(x_test,y_test)=mnist.load_data()"
      ]
    },
    {
      "cell_type": "code",
      "execution_count": 26,
      "metadata": {
        "colab": {
          "base_uri": "https://localhost:8080/"
        },
        "id": "uGzp1W02Z2YH",
        "outputId": "3adfa922-c2d3-4a9a-ce1f-033313c078e1"
      },
      "outputs": [
        {
          "output_type": "stream",
          "name": "stdout",
          "text": [
            "Shape of x train : (60000, 28, 28)\n",
            "Shape of y train : (60000,)\n",
            "Shape of x test : (10000, 28, 28)\n",
            "Shape of y test: (10000,)\n"
          ]
        }
      ],
      "source": [
        "#Checking on the shapes of datasets after the split\n",
        "print('Shape of x train :', x_train.shape)\n",
        "print('Shape of y train :', y_train.shape)\n",
        "print('Shape of x test :', x_test.shape)\n",
        "print('Shape of y test:', y_test.shape)"
      ]
    },
    {
      "cell_type": "markdown",
      "metadata": {
        "id": "d0DgJdggfgOt"
      },
      "source": [
        "Therefor we have 60000 samples in the training dataset and 10000 in the test dataset\n",
        "\n",
        "The shape of image is 28*28 pixels"
      ]
    },
    {
      "cell_type": "markdown",
      "metadata": {
        "id": "7qzLqK9Igslu"
      },
      "source": [
        "# Glance at the Image"
      ]
    },
    {
      "cell_type": "code",
      "execution_count": 27,
      "metadata": {
        "colab": {
          "base_uri": "https://localhost:8080/",
          "height": 331
        },
        "id": "7nrlzV4rgpUc",
        "outputId": "9ad92ef8-cb9c-48ab-e3ff-79d4bef57bf9"
      },
      "outputs": [
        {
          "output_type": "execute_result",
          "data": {
            "text/plain": [
              "Text(0.5, 1.0, 'Image of Second handwritten number within the MNIST train dataset')"
            ]
          },
          "metadata": {},
          "execution_count": 27
        },
        {
          "output_type": "display_data",
          "data": {
            "text/plain": [
              "<Figure size 300x300 with 1 Axes>"
            ],
            "image/png": "[encoded data removed]"
          },
          "metadata": {}
        }
      ],
      "source": [
        "plt.figure(figsize=(3,3))\n",
        "plt.imshow(x_train[1],cmap='gray')\n",
        "plt.title('Image of Second handwritten number within the MNIST train dataset')"
      ]
    },
    {
      "cell_type": "code",
      "execution_count": 28,
      "metadata": {
        "colab": {
          "base_uri": "https://localhost:8080/"
        },
        "id": "qRn6cEKbg6PG",
        "outputId": "c1392b1a-e6bf-49bd-99d1-343400e4756f"
      },
      "outputs": [
        {
          "output_type": "execute_result",
          "data": {
            "text/plain": [
              "0"
            ]
          },
          "metadata": {},
          "execution_count": 28
        }
      ],
      "source": [
        "y_train[1]"
      ]
    },
    {
      "cell_type": "markdown",
      "metadata": {
        "id": "x_zWlesWmyZP"
      },
      "source": [
        "From the Above it is clear how the dataset looks like.\n",
        "The input to the model will be handwritten digit and the corresponding label for the image will be it's value"
      ]
    },
    {
      "cell_type": "markdown",
      "metadata": {
        "id": "blZfc3u6tV5X"
      },
      "source": [
        "# Preprocessing the Data"
      ]
    },
    {
      "cell_type": "markdown",
      "metadata": {
        "id": "lmzN8zCmtzrq"
      },
      "source": [
        "Reshaping the data into the form which is accepted by the deep CNN"
      ]
    },
    {
      "cell_type": "code",
      "execution_count": 29,
      "metadata": {
        "id": "XhOpL0rMmtTh"
      },
      "outputs": [],
      "source": [
        "#Retrieving the shape of an image.\n",
        "img_rows=x_train[0].shape[0]\n",
        "img_cols=x_train[0].shape[1]\n",
        "#Reshaping the existing test and train datasets.\n",
        "X_train=x_train.reshape(x_train.shape[0],img_rows,img_cols,1)\n",
        "X_test=x_test.reshape(x_test.shape[0],img_rows,img_cols,1)"
      ]
    },
    {
      "cell_type": "code",
      "execution_count": 30,
      "metadata": {
        "colab": {
          "base_uri": "https://localhost:8080/"
        },
        "id": "sKi3G3OToki0",
        "outputId": "4a26ce92-bd9a-476e-bd69-a280eb0814a6"
      },
      "outputs": [
        {
          "output_type": "stream",
          "name": "stdout",
          "text": [
            "Shape of X_train : (60000, 28, 28, 1)\n",
            "Shape of X_test : (10000, 28, 28, 1)\n"
          ]
        }
      ],
      "source": [
        "print('Shape of X_train :', X_train.shape)\n",
        "print('Shape of X_test :', X_test.shape)"
      ]
    },
    {
      "cell_type": "markdown",
      "metadata": {
        "id": "G2CDTx4UMpie"
      },
      "source": []
    },
    {
      "cell_type": "markdown",
      "metadata": {
        "id": "J0NEeHx0Mxd5"
      },
      "source": [
        "# Constructing Convolutional Neural Networks"
      ]
    },
    {
      "cell_type": "code",
      "execution_count": 31,
      "metadata": {
        "id": "cyW9mAT-Mujx"
      },
      "outputs": [],
      "source": [
        "#creating a Sequential model\n",
        "My_model=Sequential([\n",
        "Conv2D(32,(5,5),activation='relu',padding='same',input_shape=(28,28,1)),\n",
        "#From the above layer we created first Convolutional layer with 32 layers in it which are of (5,5) size with 'relu' as activation function\n",
        "#Padding make sure that after process image size would be close to the original one\n",
        "#Input shape should be mentioned as it's the first convolutional layer\n",
        "MaxPooling2D(pool_size=(2,2),padding='same'),\n",
        "#Maxpooling layer serves different purposes.Some amongst them is capturing the important info and reducing the dimesion of the image i.e the unwanted section will be removed\n",
        "#By doing so it'll be helpful for the next/upcoming convolutional layers to capture more important information and prevents unwanted time consumption\n",
        "#i.e Playing the key role in feature selection of each sample\n",
        "#Maxpooling is always next to the convolutional layers\n",
        "Conv2D(32,(5,5),activation='relu',padding='same'),\n",
        "MaxPooling2D(pool_size=(2,2),padding='same'),\n",
        "#After processing the image samples through multiple convolutional and Maxpooling layers individual samples/image info will be in multi dimension which are not accepted my densely connected neural layers\n",
        "#Therefore it has to be converted into one dimensional which will be done flatten layer\n",
        "Flatten(),\n",
        "#Now the data is compatible to pass through neural network\n",
        "Dense(1024,activation='relu'),\n",
        "#mentioning the number of neurons with activation function\n",
        "Dropout(0.4),\n",
        "#Mention the percent/no:of neurons you want to drop out inorder to avoid overfitting in each training period\n",
        "Dense(10,activation='softmax')\n",
        "#No:of neurons at the output end  with softmax as activation function (the case is of multiclassification/sigmoid function incase of binary classification)\n",
        "])"
      ]
    },
    {
      "cell_type": "code",
      "execution_count": 32,
      "metadata": {
        "colab": {
          "base_uri": "https://localhost:8080/"
        },
        "id": "k9idBgocSJ1c",
        "outputId": "979aa71f-ac07-4f23-9a9b-0bf527353b04"
      },
      "outputs": [
        {
          "output_type": "stream",
          "name": "stdout",
          "text": [
            "Model: \"sequential_1\"\n",
            "_________________________________________________________________\n",
            " Layer (type)                Output Shape              Param #   \n",
            "=================================================================\n",
            " conv2d_2 (Conv2D)           (None, 28, 28, 32)        832       \n",
            "                                                                 \n",
            " max_pooling2d_2 (MaxPoolin  (None, 14, 14, 32)        0         \n",
            " g2D)                                                            \n",
            "                                                                 \n",
            " conv2d_3 (Conv2D)           (None, 14, 14, 32)        25632     \n",
            "                                                                 \n",
            " max_pooling2d_3 (MaxPoolin  (None, 7, 7, 32)          0         \n",
            " g2D)                                                            \n",
            "                                                                 \n",
            " flatten_1 (Flatten)         (None, 1568)              0         \n",
            "                                                                 \n",
            " dense_2 (Dense)             (None, 1024)              1606656   \n",
            "                                                                 \n",
            " dropout_1 (Dropout)         (None, 1024)              0         \n",
            "                                                                 \n",
            " dense_3 (Dense)             (None, 10)                10250     \n",
            "                                                                 \n",
            "=================================================================\n",
            "Total params: 1643370 (6.27 MB)\n",
            "Trainable params: 1643370 (6.27 MB)\n",
            "Non-trainable params: 0 (0.00 Byte)\n",
            "_________________________________________________________________\n"
          ]
        }
      ],
      "source": [
        "My_model.summary()"
      ]
    },
    {
      "cell_type": "markdown",
      "metadata": {
        "id": "WD0cRBXcgknF"
      },
      "source": [
        "# Compiling Neural Network"
      ]
    },
    {
      "cell_type": "code",
      "execution_count": 33,
      "metadata": {
        "id": "NTBMipm6gpjG"
      },
      "outputs": [],
      "source": [
        "My_model.compile(optimizer=Adam(learning_rate=0.01),loss=tf.keras.losses.sparse_categorical_crossentropy,metrics=['sparse_categorical_accuracy'])\n",
        "#Initialising the optimiser inorder to reduce the value of loss function and update the weights to better prediction.Here it's the best amongst all 'Adam'\n",
        "#Initialising the loss function inorder to calculate the error during training.sparse categorical cross entropy suits better for the kind of multiple classification where labels are actually numbers\n",
        "#Defining the metrics inorder to calculate the model performance on validation dataset"
      ]
    },
    {
      "cell_type": "markdown",
      "source": [
        "# Creating a validation dataset"
      ],
      "metadata": {
        "id": "PwJ7couKlMsw"
      }
    },
    {
      "cell_type": "code",
      "source": [
        "X_train, X_validation, y_train, y_validation = train_test_split(X_train, y_train, test_size=0.1, random_state=42)\n",
        "#test_size of 0.1 indicates that 10 percent of my training dataset(both predictors and target) are considered to be a validation dataset"
      ],
      "metadata": {
        "id": "J1CwjAB4kOyS"
      },
      "execution_count": 34,
      "outputs": []
    },
    {
      "cell_type": "code",
      "execution_count": 35,
      "metadata": {
        "colab": {
          "base_uri": "https://localhost:8080/"
        },
        "id": "riwjkfHet6I1",
        "outputId": "5da1764e-4044-4edd-b2c8-993638c91ce9"
      },
      "outputs": [
        {
          "output_type": "stream",
          "name": "stdout",
          "text": [
            "Epoch 1/5\n",
            "54/54 [==============================] - 3s 27ms/step - loss: 9.4533 - sparse_categorical_accuracy: 0.3212 - val_loss: 1.2101 - val_sparse_categorical_accuracy: 0.5830\n",
            "Epoch 2/5\n",
            "54/54 [==============================] - 1s 22ms/step - loss: 0.8876 - sparse_categorical_accuracy: 0.7075 - val_loss: 0.5128 - val_sparse_categorical_accuracy: 0.8298\n",
            "Epoch 3/5\n",
            "54/54 [==============================] - 1s 24ms/step - loss: 0.5123 - sparse_categorical_accuracy: 0.8377 - val_loss: 0.3811 - val_sparse_categorical_accuracy: 0.8755\n",
            "Epoch 4/5\n",
            "54/54 [==============================] - 1s 23ms/step - loss: 0.3957 - sparse_categorical_accuracy: 0.8770 - val_loss: 0.2982 - val_sparse_categorical_accuracy: 0.9075\n",
            "Epoch 5/5\n",
            "54/54 [==============================] - 1s 21ms/step - loss: 0.3385 - sparse_categorical_accuracy: 0.8961 - val_loss: 0.2350 - val_sparse_categorical_accuracy: 0.9248\n"
          ]
        }
      ],
      "source": [
        "Model_Performance=My_model.fit(X_train,y_train,validation_data=(X_validation,y_validation),epochs=5,batch_size=1000)"
      ]
    },
    {
      "cell_type": "code",
      "source": [
        "plt.figure(figsize=(7,6))\n",
        "plt.plot(My_model.history.history['sparse_categorical_accuracy'])\n",
        "plt.plot(My_model.history.history['val_sparse_categorical_accuracy'])\n",
        "plt.title('Model Accuracy')\n",
        "plt.xlabel('Epochs')\n",
        "plt.ylabel('sparse_categorical_accuracy')\n",
        "plt.legend(['training','validation'])"
      ],
      "metadata": {
        "id": "6qjds_HQqXTL",
        "colab": {
          "base_uri": "https://localhost:8080/",
          "height": 581
        },
        "outputId": "7edba6d2-5a58-4c17-e82b-0176acb3de0c"
      },
      "execution_count": 36,
      "outputs": [
        {
          "output_type": "execute_result",
          "data": {
            "text/plain": [
              "<matplotlib.legend.Legend at 0x7bf11ea3aad0>"
            ]
          },
          "metadata": {},
          "execution_count": 36
        },
        {
          "output_type": "display_data",
          "data": {
            "text/plain": [
              "<Figure size 700x600 with 1 Axes>"
            ],
            "image/png": "[encoded data removed]"
          },
          "metadata": {}
        }
      ]
    },
    {
      "cell_type": "markdown",
      "source": [
        "# Predictions from the test dataset"
      ],
      "metadata": {
        "id": "1ADBRUoWJBkr"
      }
    },
    {
      "cell_type": "code",
      "source": [
        "My_Model_Predictions=My_model.predict(X_test)"
      ],
      "metadata": {
        "id": "__yTlUaiI-rT",
        "colab": {
          "base_uri": "https://localhost:8080/"
        },
        "outputId": "ff9ed5ae-3c71-4119-80dc-b1b2fbc62ad5"
      },
      "execution_count": 37,
      "outputs": [
        {
          "output_type": "stream",
          "name": "stdout",
          "text": [
            "313/313 [==============================] - 1s 2ms/step\n"
          ]
        }
      ]
    },
    {
      "cell_type": "code",
      "source": [
        "My_model.evaluate(X_test,y_test)"
      ],
      "metadata": {
        "id": "FsT-qjR6JOH6",
        "colab": {
          "base_uri": "https://localhost:8080/"
        },
        "outputId": "b655a1b9-3cd5-44db-a4c2-a39ffc4af0ca"
      },
      "execution_count": 38,
      "outputs": [
        {
          "output_type": "stream",
          "name": "stdout",
          "text": [
            "313/313 [==============================] - 1s 3ms/step - loss: 0.2467 - sparse_categorical_accuracy: 0.9230\n"
          ]
        },
        {
          "output_type": "execute_result",
          "data": {
            "text/plain": [
              "[0.2467188686132431, 0.9229999780654907]"
            ]
          },
          "metadata": {},
          "execution_count": 38
        }
      ]
    },
    {
      "cell_type": "markdown",
      "source": [
        "# Cross Checking the prediction"
      ],
      "metadata": {
        "id": "3qr-iGaANTV_"
      }
    },
    {
      "cell_type": "code",
      "source": [
        "def showimage(images):\n",
        "    fig, axes = plt.subplots(1, 10, figsize=(10, 10))  # Creating 10 subplots to display 10 images\n",
        "    axes = axes.flatten()  # Flattening the axes created to be in 1 dimension for a single row of images\n",
        "    for img, ax in zip(images, axes):\n",
        "        ax.imshow(img, cmap='gray')\n",
        "    plt.tight_layout()\n",
        "    plt.show()\n"
      ],
      "metadata": {
        "id": "ngDOwd3QJ37n"
      },
      "execution_count": 39,
      "outputs": []
    },
    {
      "cell_type": "markdown",
      "source": [
        "## Actual Numbers from the Dataset"
      ],
      "metadata": {
        "id": "pfcXR2fY5lJY"
      }
    },
    {
      "cell_type": "code",
      "source": [
        "showimage(X_test[:10])"
      ],
      "metadata": {
        "id": "7wyaBTwbRTxH",
        "colab": {
          "base_uri": "https://localhost:8080/",
          "height": 118
        },
        "outputId": "f1c22903-72c8-48ae-af9a-eb444506620e"
      },
      "execution_count": 40,
      "outputs": [
        {
          "output_type": "display_data",
          "data": {
            "text/plain": [
              "<Figure size 1000x1000 with 10 Axes>"
            ],
            "image/png": "[encoded data removed]"
          },
          "metadata": {}
        }
      ]
    },
    {
      "cell_type": "markdown",
      "source": [
        "## Predictions made by the Model"
      ],
      "metadata": {
        "id": "qJzPbg1x5tQz"
      }
    },
    {
      "cell_type": "code",
      "source": [
        "results=np.argmax(My_Model_Predictions[:10],axis=1)\n",
        "print(results)"
      ],
      "metadata": {
        "id": "pw8RHS02Ra1m",
        "colab": {
          "base_uri": "https://localhost:8080/"
        },
        "outputId": "d11806ae-1224-476d-dbe9-1c1325c95aab"
      },
      "execution_count": 41,
      "outputs": [
        {
          "output_type": "stream",
          "name": "stdout",
          "text": [
            "[7 2 1 0 4 1 4 9 4 9]\n"
          ]
        }
      ]
    }
  ],
  "metadata": {
    "accelerator": "GPU",
    "colab": {
      "provenance": [],
      "gpuType": "T4",
      "authorship_tag": "ABX9TyOSTXqMJGpa3ZizBhP4KK2G",
      "include_colab_link": true
    },
    "kernelspec": {
      "display_name": "Python 3",
      "name": "python3"
    },
    "language_info": {
      "name": "python"
    }
  },
  "nbformat": 4,
  "nbformat_minor": 0
}